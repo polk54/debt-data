{
 "cells": [
  {
   "cell_type": "markdown",
   "metadata": {},
   "source": [
    "# Accessing International Debt Statistics (IDS) through World Bank Data API\n",
    "## Part 1 - Query the API: indicators and locations\n",
    "### *Python 3*"
   ]
  },
  {
   "cell_type": "markdown",
   "metadata": {},
   "source": [
    "Date: 05/22/2019 <br>\n",
    "[Data source](https://datacatalog.worldbank.org/dataset/international-debt-statistics)<br>\n",
    "[Developer Information](https://datahelpdesk.worldbank.org/knowledgebase/topics/125589-developer-information)"
   ]
  },
  {
   "cell_type": "markdown",
   "metadata": {},
   "source": [
    "This is first part of a two-part series on accessing the International Debt Statistics (IDS) database through the World Bank Data API. In this part, we will query the World Bank Data API to retrieve indicator names and location codes. In [Part 2](https://worldbank.github.io/debt-data/api-guide/ids-api-guide-python-2.html), we will use that information to explore the **regional trends of long-term external debt stocks** from the IDS database.\n",
    "\n",
    "The following code in this guide will show step-by-step how to:\n",
    "\n",
    "1. Setup up your environment with the needed Python packages\n",
    "2. Create Indicator API Queries\n",
    "3. Create Location API Queries"
   ]
  },
  {
   "cell_type": "markdown",
   "metadata": {},
   "source": [
    "## 1. Setup\n",
    "To start, make sure you have the following packages installed on your machine. If you aren't familiar with how to install a Python package, visit each of the linked packages for instructions.\n",
    "\n",
    "- [requests](https://realpython.com/python-requests/): Making HTTP requests in Python\n",
    "- [json](https://docs.python.org/3/library/json.html): Interpreting json\n",
    "\n",
    "Then, open up your preferred mode of writing Python. This could be in a [Jupyter Notebook](https://jupyter.org/) using [Jupyter Lab](https://blog.jupyter.org/jupyterlab-is-ready-for-users-5a6f039b8906), using a code editor (like Atom or Visual Studio) + command line, or just from the command line. Then import the required packages:"
   ]
  },
  {
   "cell_type": "code",
   "execution_count": 1,
   "metadata": {},
   "outputs": [],
   "source": [
    "# Import packages\n",
    "import requests\n",
    "import json"
   ]
  },
  {
   "cell_type": "markdown",
   "metadata": {},
   "source": [
    "## 2. Indicator API Queries\n",
    "To get a data series from the World Bank's API, you first need to use an \"indicator code.\" For example, the indicator code for long-term external debt stock is \"DT.DOD.DLXF.CD.\" These indicator codes can be found in the [World Bank Data Catalog](https://datacatalog.worldbank.org/), but you can also use the API to explore and select indicators. In this section, we will guide you through going from a topic idea to using the World Bank API to select an indictor code.\n",
    "\n",
    "More information on this can also be found through the [Data Help Desk](https://datahelpdesk.worldbank.org/knowledgebase/articles/898599-indicator-api-queries)."
   ]
  },
  {
   "cell_type": "markdown",
   "metadata": {},
   "source": [
    "First, we should choose a topic. Topics are high level categories to which all indicators are mapped, such as Education, Trade, etc. The topic in this guide is \"External Debt,\" but we will need the topic's ID in order to see all its corresonponding indicator names and codes."
   ]
  },
  {
   "cell_type": "markdown",
   "metadata": {},
   "source": [
    "#### Getting the Topic ID for Debt\n",
    "\n",
    "The following GET request will get us every topic from the World Bank Data API. However, the request is returned in a json format that is difficult to read as is, so we will include some code to parse through it. Then we can see each topic name and ID available in the World Bank Data API."
   ]
  },
  {
   "cell_type": "code",
   "execution_count": 2,
   "metadata": {},
   "outputs": [
    {
     "name": "stdout",
     "output_type": "stream",
     "text": [
      "1 Agriculture & Rural Development\n",
      "2 Aid Effectiveness\n",
      "3 Economy & Growth\n",
      "4 Education\n",
      "5 Energy & Mining\n",
      "6 Environment\n",
      "7 Financial Sector\n",
      "8 Health\n",
      "9 Infrastructure\n",
      "10 Social Protection & Labor\n",
      "11 Poverty\n",
      "12 Private Sector\n",
      "13 Public Sector\n",
      "14 Science & Technology\n",
      "15 Social Development\n",
      "16 Urban Development\n",
      "17 Gender\n",
      "18 Millenium development goals\n",
      "19 Climate Change\n",
      "20 External Debt\n",
      "21 Trade\n"
     ]
    }
   ],
   "source": [
    "# Get all topic names from the World Bank API\n",
    "topics = requests.get(\"http://api.worldbank.org/v2/topic?format=json\")\n",
    "topicsJSON = topics.json()\n",
    "#print(responseJSON) # if you want to view the JSON response as is, remove the \"#\" at the beginning of the print command\n",
    "\n",
    "# Parse through the response to see the topic names and ID numbers.\n",
    "for i in topicsJSON[1]:\n",
    "    print(i[\"id\"],i[\"value\"])"
   ]
  },
  {
   "cell_type": "markdown",
   "metadata": {},
   "source": [
    "We can now see that \"External Debt\" topic has the ID \"20\""
   ]
  },
  {
   "cell_type": "markdown",
   "metadata": {},
   "source": [
    "#### Getting the Indicator code\n",
    "\n",
    "Now that we have the ID for the topic \"External Debt,\" we can make another request to the World Bank API to receive all of the indicator names and codes associated with that topic. In the code below, notice that the ID for \"External Debt\" is placed in the URL between \"topic\" and \"indicator.\"\n",
    "\n",
    "Most likely, there will be more External Debt indicators available than can fit on one page, the default is 50 results. So we will first print the \"total\" number of indicators. Then using that number we can adjust our API query."
   ]
  },
  {
   "cell_type": "code",
   "execution_count": 3,
   "metadata": {},
   "outputs": [
    {
     "name": "stdout",
     "output_type": "stream",
     "text": [
      "229\n"
     ]
    }
   ],
   "source": [
    "# Requesting the indicators for the topic External Debt\n",
    "indicators = requests.get(\"http://api.worldbank.org/v2/topic/20/indicator?format=json\")\n",
    "indicatorsJSON = indicators.json()\n",
    "\n",
    "# Print the total number of indicators\n",
    "print(indicatorsJSON[0][\"total\"])"
   ]
  },
  {
   "cell_type": "markdown",
   "metadata": {},
   "source": [
    "The above code shows that there are 229 (UPDATE) indicators in the External Debt topic. When submitting our new query to the API, we will take this into account by setting the \"per_page\" parameter to 250. This will allow us to view all the results with one query, instead of having to request multiple pages. Then we can parse through the result to explore the different indicator names and corresponding IDs. Because there are so many indicators, the results are also saved as \"ids-indicators.csv.\" (LINK NEEDED)"
   ]
  },
  {
   "cell_type": "code",
   "execution_count": 4,
   "metadata": {},
   "outputs": [],
   "source": [
    "# Get all External Debt indicators, with a per_page parameter of 250.\n",
    "indicators = requests.get(\"http://api.worldbank.org/v2/topic/20/indicator?per_page=250&format=json\")\n",
    "indicatorsJSON = indicators.json()\n",
    "#print(indicatorsJSON) # to view ALL of the indicators as is, remove the \"#\" at the beginning of the print command\n",
    "\n",
    "# Parse through the response to see the Indicator IDs and Names\n",
    "for i in indicatorsJSON[1]:\n",
    "    IDSindicators = (i[\"id\"],i[\"name\"])\n",
    "    #print(IDSindicators) # to view the indicator ids and names, remove the \"#\" at the beginning of the print command"
   ]
  },
  {
   "cell_type": "markdown",
   "metadata": {},
   "source": [
    "The resulting list gives us all of the External Debt indicators and their codes. The indicator and code we want is \"DT.DOD.DLXF.CD External debt stocks, long-term (DOD, current US$).\" Before using this data, we need to understand its full definition. You can use an API query to get that information as well."
   ]
  },
  {
   "cell_type": "code",
   "execution_count": 5,
   "metadata": {},
   "outputs": [
    {
     "name": "stdout",
     "output_type": "stream",
     "text": [
      "Long-term debt is debt that has an original or extended maturity of more than one year. It has three components: public, publicly guaranteed, and private nonguaranteed debt. Data are in current U.S. dollars.\n"
     ]
    }
   ],
   "source": [
    "# Use the indicator code to define x\n",
    "x = \"DT.DOD.DLXF.CD\"\n",
    "\n",
    "# Parse through the response to get the \"sourceNote\" or definition for the desired indicator\n",
    "for dict_entity in indicatorsJSON[1]\n",
    "    if dict_entity[\"id\"] == x:\n",
    "        print(dict_entity[\"sourceNote\"])\n",
    "    else:\n",
    "        print(\"Try a different code\")"
   ]
  },
  {
   "cell_type": "markdown",
   "metadata": {},
   "source": [
    "By using the API queries above, we were able sort through the World Bank API topics, find \"External Debt,\" explore the corresponding indicators, and then select one indicator of interest and find its ID and definition."
   ]
  },
  {
   "cell_type": "markdown",
   "metadata": {},
   "source": [
    "## 2. Location API Queries\n",
    "\n",
    "Now that we have the indicator code, we need to select a location. To select a location by country, region, or income level category you will need to know its 2 or 3 letter code. This section will show you how to use similar API queries to pull the location names and codes. \n",
    "\n",
    "For more information on this visit the [Data Help Desk](https://datahelpdesk.worldbank.org/knowledgebase/articles/898590-country-api-queries).\n",
    "\n",
    "When pulling the list of locations, I will set the per_page result to 300, as there will too many results to display on one page."
   ]
  },
  {
   "cell_type": "code",
   "execution_count": 6,
   "metadata": {},
   "outputs": [],
   "source": [
    "# Requesting the locations\n",
    "locations = requests.get(\"http://api.worldbank.org/v2/country?per_page=300&format=json\")\n",
    "locationsJSON = locations.json()\n",
    "#print(locationsJSON) # if you want to view ALL of the indicators as is, remove the \"#\" at the beginning of the print command"
   ]
  },
  {
   "cell_type": "markdown",
   "metadata": {},
   "source": [
    "From this list of locations, we need to pick one or more locations and then find the corresponding IDs and names. Because there are so many locations, the results are also saved as [location-codes csv](https://github.com/worldbank/debt-data/blob/master/location-codes.csv)*\n",
    "\n",
    "###### *The location-codes csv was created using the API query: http://api.worldbank.org/v2/sources/2/country/data"
   ]
  },
  {
   "cell_type": "code",
   "execution_count": 7,
   "metadata": {},
   "outputs": [],
   "source": [
    "# Parse through the response to see the location IDs and names\n",
    "for i in locationsJSON[1]:\n",
    "    locationCodes = (i[\"id\"],i[\"name\"])\n",
    "    #print(locationCodes) # to view the location ids and names, remove the \"#\" at the beginning of the print command"
   ]
  },
  {
   "cell_type": "markdown",
   "metadata": {},
   "source": [
    "From the resulting list, you can select the location IDs for the countries or regions of interest."
   ]
  },
  {
   "cell_type": "markdown",
   "metadata": {},
   "source": [
    "#### Now head to Part 2 of this series to find out how to use the indicator and location codes to call a data series from the World Bank Data API\n",
    "### [Part 2 - Get and explore data](https://worldbank.github.io/debt-data/api-guide/ids-api-guide-python-2.html)"
   ]
  }
 ],
 "metadata": {
  "kernelspec": {
   "display_name": "Python 3",
   "language": "python",
   "name": "python3"
  },
  "language_info": {
   "codemirror_mode": {
    "name": "ipython",
    "version": 3
   },
   "file_extension": ".py",
   "mimetype": "text/x-python",
   "name": "python",
   "nbconvert_exporter": "python",
   "pygments_lexer": "ipython3",
   "version": "3.7.0"
  }
 },
 "nbformat": 4,
 "nbformat_minor": 2
}
